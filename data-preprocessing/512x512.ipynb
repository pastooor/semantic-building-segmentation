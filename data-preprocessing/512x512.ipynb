{
 "cells": [
  {
   "cell_type": "code",
   "execution_count": null,
   "id": "acd6f9c7-4781-4195-8224-0ffea6180208",
   "metadata": {},
   "outputs": [
    {
     "name": "stdout",
     "output_type": "stream",
     "text": [
      "Proceso completado.\n"
     ]
    }
   ],
   "source": [
    "import os\n",
    "from PIL import Image\n",
    "\n",
    "input_root = 'G:\\\\jorge\\\\Datasets\\\\processed_images\\\\processed_images\\\\train'\n",
    "output_root = 'G:\\\\jorge\\\\Datasets\\\\images_512x512\\\\train'\n",
    "\n",
    "subfolders = ['gt', 'images']\n",
    "\n",
    "for sub in subfolders:\n",
    "    os.makedirs(os.path.join(output_root, sub), exist_ok=True)\n",
    "\n",
    "def split_and_save(image_path, output_folder, base_name):\n",
    "    with Image.open(image_path) as img:\n",
    "        w, h = img.size\n",
    "        if w != 1024 or h != 1024:\n",
    "            print(f\"Saltando {image_path}: tamaño inesperado ({w}x{h})\")\n",
    "            return\n",
    "\n",
    "        crops = [\n",
    "            (0, 0, 512, 512),       \n",
    "            (512, 0, 1024, 512),    \n",
    "            (0, 512, 512, 1024),    \n",
    "            (512, 512, 1024, 1024)  \n",
    "        ]\n",
    "\n",
    "        for i, crop in enumerate(crops):\n",
    "            cropped_img = img.crop(crop)\n",
    "            new_filename = f\"{base_name}_crop{i+1}.tif\"\n",
    "            cropped_img.save(os.path.join(output_folder, new_filename))\n",
    "\n",
    "for sub in subfolders:\n",
    "    input_folder = os.path.join(input_root, sub)\n",
    "    output_folder = os.path.join(output_root, sub)\n",
    "\n",
    "    for filename in os.listdir(input_folder):\n",
    "        if filename.lower().endswith('.tif'):\n",
    "            image_path = os.path.join(input_folder, filename)\n",
    "            base_name = os.path.splitext(filename)[0]\n",
    "            split_and_save(image_path, output_folder, base_name)\n",
    "\n",
    "print(\"Proceso completado.\")\n"
   ]
  },
  {
   "cell_type": "code",
   "execution_count": null,
   "id": "de38b5fa-9a21-4d58-8096-849b1d410b5e",
   "metadata": {},
   "outputs": [
    {
     "name": "stdout",
     "output_type": "stream",
     "text": [
      "Se ha completado el split. Entrenamiento: 14400 imágenes, Validación: 3600 imágenes.\n"
     ]
    }
   ],
   "source": [
    "import os\n",
    "import shutil\n",
    "import random\n",
    "\n",
    "data_root = \"G:\\\\jorge\\\\Datasets\\\\images_512x512\\\\train\"\n",
    "img_dir = \"images\"\n",
    "mask_dir = \"gt\"\n",
    "\n",
    "val_dir = os.path.join(data_root, \"val\")\n",
    "\n",
    "os.makedirs(os.path.join(val_dir, \"images\"), exist_ok=True)\n",
    "os.makedirs(os.path.join(val_dir, \"gt\"), exist_ok=True)\n",
    "\n",
    "img_files = os.listdir(os.path.join(data_root, img_dir))\n",
    "mask_files = os.listdir(os.path.join(data_root, mask_dir))\n",
    "\n",
    "assert len(img_files) == len(mask_files), \"Las listas de imágenes y máscaras no coinciden.\"\n",
    "\n",
    "indices = list(range(len(img_files)))\n",
    "random.shuffle(indices)\n",
    "\n",
    "val_ratio = 0.2\n",
    "val_size = int(len(img_files) * val_ratio)\n",
    "train_size = len(img_files) - val_size\n",
    "\n",
    "train_indices = indices[:train_size]\n",
    "val_indices = indices[train_size:]\n",
    "\n",
    "def move_files(indices, subset, mode):\n",
    "    for i in indices:\n",
    "        img_name = img_files[i]\n",
    "        mask_name = mask_files[i]\n",
    "\n",
    "        img_src = os.path.join(data_root, img_dir, img_name)\n",
    "        mask_src = os.path.join(data_root, mask_dir, mask_name)\n",
    "\n",
    "        if mode == 'train':\n",
    "            img_dest = os.path.join(data_root, \"train\", \"images\", img_name)\n",
    "            mask_dest = os.path.join(data_root, \"train\", \"gt\", mask_name)\n",
    "        else:\n",
    "            img_dest = os.path.join(val_dir, \"images\", img_name)\n",
    "            mask_dest = os.path.join(val_dir, \"gt\", mask_name)\n",
    "\n",
    "        shutil.copy(img_src, img_dest)\n",
    "        shutil.copy(mask_src, mask_dest)\n",
    "\n",
    "move_files(val_indices, 'val', 'val')\n",
    "\n",
    "move_files(train_indices, 'train', 'train')\n",
    "\n",
    "print(f\"Se ha completado el split. Entrenamiento: {train_size} imágenes, Validación: {val_size} imágenes.\")\n"
   ]
  },
  {
   "cell_type": "code",
   "execution_count": null,
   "id": "b08759ff-d105-46db-9407-21d261b25c10",
   "metadata": {},
   "outputs": [
    {
     "name": "stdout",
     "output_type": "stream",
     "text": [
      "Proceso completado.\n"
     ]
    }
   ],
   "source": [
    "import os\n",
    "from PIL import Image\n",
    "\n",
    "input_root = 'G:\\\\jorge\\\\Datasets\\\\Para_revisar y seleccionar'\n",
    "output_root = 'G:\\\\jorge\\\\Datasets\\\\PNOA'\n",
    "\n",
    "subfolders = ['mask_selec', 'ortho_selec']\n",
    "\n",
    "for sub in subfolders:\n",
    "    os.makedirs(os.path.join(output_root, sub), exist_ok=True)\n",
    "\n",
    "def split_and_save(image_path, output_folder, base_name):\n",
    "    with Image.open(image_path) as img:\n",
    "        w, h = img.size\n",
    "        if w != 1024 or h != 1024:\n",
    "            print(f\"Saltando {image_path}: tamaño inesperado ({w}x{h})\")\n",
    "            return\n",
    "\n",
    "        crops = [\n",
    "            (0, 0, 512, 512),      \n",
    "            (512, 0, 1024, 512),  \n",
    "            (0, 512, 512, 1024),    \n",
    "            (512, 512, 1024, 1024) \n",
    "        ]\n",
    "\n",
    "        for i, crop in enumerate(crops):\n",
    "            cropped_img = img.crop(crop)\n",
    "            new_filename = f\"{base_name}_crop{i+1}.png\"\n",
    "            cropped_img.save(os.path.join(output_folder, new_filename))\n",
    "\n",
    "for sub in subfolders:\n",
    "    input_folder = os.path.join(input_root, sub)\n",
    "    output_folder = os.path.join(output_root, sub)\n",
    "\n",
    "    for filename in os.listdir(input_folder):\n",
    "        if filename.lower().endswith('.png'):\n",
    "            image_path = os.path.join(input_folder, filename)\n",
    "            base_name = os.path.splitext(filename)[0]\n",
    "            split_and_save(image_path, output_folder, base_name)\n",
    "\n",
    "print(\"Proceso completado.\")"
   ]
  },
  {
   "cell_type": "code",
   "execution_count": null,
   "id": "31d37001-5c46-48f5-96ab-d7329195e9d8",
   "metadata": {},
   "outputs": [],
   "source": []
  }
 ],
 "metadata": {
  "kernelspec": {
   "display_name": "Python 3 (ipykernel)",
   "language": "python",
   "name": "python3"
  },
  "language_info": {
   "codemirror_mode": {
    "name": "ipython",
    "version": 3
   },
   "file_extension": ".py",
   "mimetype": "text/x-python",
   "name": "python",
   "nbconvert_exporter": "python",
   "pygments_lexer": "ipython3",
   "version": "3.10.16"
  }
 },
 "nbformat": 4,
 "nbformat_minor": 5
}
