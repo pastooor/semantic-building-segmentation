{
 "cells": [
  {
   "cell_type": "code",
   "execution_count": null,
   "id": "f2e2d1d0-c476-4006-9912-4ac112fa0379",
   "metadata": {},
   "outputs": [
    {
     "name": "stdout",
     "output_type": "stream",
     "text": [
      "[  0   1   3   4   5   7   8   9  11  12  13  15  16  17  19  20  21  23\n",
      "  24  25  27  28  29  31  32  33  35  36  37  39  40  41  43  44  45  47\n",
      "  48  49  51  52  53  55  56  57  59  60  61  63  64  65  67  68  69  71\n",
      "  72  73  75  76  77  79  80  81  83  84  85  87  88  89  91  92  93  95\n",
      "  96  97  99 100 101 103 104 105 107 108 109 111 112 113 115 116 117 119\n",
      " 120 121 123 124 125 127 128 129 131 132 133 135 136 137 139 140 141 143\n",
      " 144 145 147 148 149 151 152 153 155 156 157 159 160 161 163 164 165 167\n",
      " 168 169 171 172 173 175 176 177 179 180 181 183 184 185 187 188 189 191\n",
      " 192 193 195 196 197 199 200 201 203 204 205 207 208 209 211 212 213 215\n",
      " 216 217 219 220 221 223 224 225 227 228 229 231 232 233 235 236 237 239\n",
      " 240 241 243 244 245 247 248 249 251 252 253 255]\n"
     ]
    }
   ],
   "source": [
    "import numpy as np\n",
    "import cv2\n",
    "\n",
    "m = cv2.imread('G:\\\\jorge\\\\Datasets\\\\PNOA\\\\chequeadas_mask\\\\_baleares-13199_crop3.png', cv2.IMREAD_GRAYSCALE)\n",
    "print(np.unique(m))  "
   ]
  },
  {
   "cell_type": "code",
   "execution_count": null,
   "id": "c73ec5e2-15bc-4e34-80b8-b2a8f75561b4",
   "metadata": {},
   "outputs": [],
   "source": [
    "import os\n",
    "import cv2\n",
    "import numpy as np\n",
    "\n",
    "input_dir  = 'G:\\\\jorge\\\\Datasets\\\\mascaras_originales' \n",
    "output_dir = 'G:\\\\jorge\\\\Datasets\\\\mascaras_binarias_png'\n",
    "os.makedirs(output_dir, exist_ok=True)\n",
    "\n",
    "THRESH = 128\n",
    "\n",
    "for fname in os.listdir(input_dir):\n",
    "    if not (fname.lower().endswith('.tif') or fname.lower().endswith('.png')):\n",
    "        continue\n",
    "\n",
    "    path_in = os.path.join(input_dir, fname)\n",
    "    mask = cv2.imread(path_in, cv2.IMREAD_UNCHANGED)\n",
    "    if mask is None:\n",
    "        print(f\"¡Error leyendo {fname}, comprueba que existe y es una imagen válida!\")\n",
    "        continue\n",
    "\n",
    "    if mask.ndim == 3:\n",
    "        mask = cv2.cvtColor(mask, cv2.COLOR_BGR2GRAY)\n",
    "\n",
    "    mask_bin = (mask > THRESH).astype(np.uint8)\n",
    "\n",
    "    name_out = os.path.splitext(fname)[0] + '.png'\n",
    "    path_out = os.path.join(output_dir, name_out)\n",
    "    cv2.imwrite(path_out, mask_bin)\n"
   ]
  },
  {
   "cell_type": "code",
   "execution_count": null,
   "id": "83c555df-7442-4083-a2c0-1e610b676ca2",
   "metadata": {},
   "outputs": [],
   "source": [
    "import os\n",
    "from PIL import Image\n",
    "import numpy as np\n",
    "import cv2\n",
    "\n",
    "input_dir  = 'G:\\\\jorge\\\\Datasets\\\\images_512x512\\\\train\\\\gt'         \n",
    "output_dir = 'G:\\\\jorge\\\\Datasets\\\\mascaras_binarias_png'    \n",
    "os.makedirs(output_dir, exist_ok=True)\n",
    "\n",
    "for fname in os.listdir(input_dir):\n",
    "    if not fname.lower().endswith(('.tif', '.tiff')):\n",
    "        continue\n",
    "\n",
    "    path_in = os.path.join(input_dir, fname)\n",
    "    im = Image.open(path_in).convert('L')  \n",
    "    arr = np.array(im)\n",
    "\n",
    "    mask_bin = (arr > 128).astype(np.uint8)\n",
    "\n",
    "    out_name = os.path.splitext(fname)[0] + '.png'\n",
    "    path_out = os.path.join(output_dir, out_name)\n",
    "    Image.fromarray(mask_bin, mode='L').save(path_out)\n",
    "\n",
    "    # 4) Verifica leyendo con OpenCV\n",
    "    reim = cv2.imread(path_out, cv2.IMREAD_GRAYSCALE)\n",
    "    if reim is None:\n",
    "        print(f\"No se pudo leer de nuevo {path_out}\")\n",
    "    else:\n",
    "        print(f\"{out_name}: valores únicos → {np.unique(reim)}\")\n"
   ]
  },
  {
   "cell_type": "code",
   "execution_count": null,
   "id": "7fb1d8a8-3753-474e-b6c0-c465510bd2d7",
   "metadata": {},
   "outputs": [
    {
     "name": "stdout",
     "output_type": "stream",
     "text": [
      "Conversión completada. Verifica con:\n",
      "[0 1]\n"
     ]
    }
   ],
   "source": [
    "print(\"Conversión completada. Verifica con:\")\n",
    "import cv2, numpy as np\n",
    "m = cv2.imread('G:\\\\jorge\\\\Datasets\\\\mascaras_binarias_png\\\\vienna9_pos_994_994_crop4.png', cv2.IMREAD_GRAYSCALE)\n",
    "print(np.unique(m))  "
   ]
  },
  {
   "cell_type": "code",
   "execution_count": null,
   "id": "9b9fb4aa-6257-4dd6-8672-93ce67d4ec3b",
   "metadata": {},
   "outputs": [],
   "source": [
    "import os\n",
    "from PIL import Image\n",
    "import numpy as np\n",
    "import shutil\n",
    "\n",
    "tif_dir     = 'G:\\\\jorge\\\\Datasets\\\\images_512x512\\\\train\\\\images'                    \n",
    "png_dest    = 'G:\\\\jorge\\\\Datasets\\\\INRIA-PNOA\\\\images'\n",
    "os.makedirs(png_dest, exist_ok=True)\n",
    "\n",
    "for fname in os.listdir(tif_dir):\n",
    "    if not fname.lower().endswith(('.tif', '.tiff')):\n",
    "        continue\n",
    "\n",
    "    path_in  = os.path.join(tif_dir, fname)\n",
    "    name_png = os.path.splitext(fname)[0] + '.png'\n",
    "    path_out = os.path.join(png_dest,   name_png)\n",
    "\n",
    "    with Image.open(path_in) as im:\n",
    "        im_rgb = im.convert('RGB')                 \n",
    "        arr    = np.array(im_rgb)\n",
    "\n",
    "        if arr.dtype != np.uint8:\n",
    "            arr = ((arr - arr.min()) / (arr.max() - arr.min()) * 255).astype(np.uint8)\n",
    "            im_rgb = Image.fromarray(arr, 'RGB')\n",
    "\n",
    "        im_rgb.save(path_out, format='PNG')\n",
    "\n",
    "    print(f'Convertido y movido: {name_png}')\n",
    "\n",
    "print('¡Conversión completa! Ahora tienes todos los .png junto con el resto de imágenes.')\n"
   ]
  },
  {
   "cell_type": "code",
   "execution_count": null,
   "id": "2ffb587c-ef46-4187-b5dd-6f98651fbfe3",
   "metadata": {},
   "outputs": [
    {
     "name": "stdout",
     "output_type": "stream",
     "text": [
      "Reparto completado:\n",
      "  train: 19479 pares (imagen+máscara)\n",
      "  val  : 4174 pares (imagen+máscara)\n",
      "  test : 4175 pares (imagen+máscara)\n"
     ]
    }
   ],
   "source": [
    "import os\n",
    "import random\n",
    "import shutil\n",
    "\n",
    "src_images = 'G:\\\\jorge\\\\Datasets\\\\INRIA-PNOA\\\\images'   \n",
    "src_masks  = 'G:\\\\jorge\\\\Datasets\\\\INRIA-PNOA\\\\mascaras_binarias_png'   \n",
    "dst_base   = 'G:\\\\jorge\\\\Datasets\\\\INRIA-PNOA'     \n",
    "\n",
    "frac_train = 0.70\n",
    "frac_val   = 0.15\n",
    "\n",
    "for split in ['train','val','test']:\n",
    "    for kind in ['images','masks']:\n",
    "        d = os.path.join(dst_base, split, kind)\n",
    "        os.makedirs(d, exist_ok=True)\n",
    "\n",
    "files = [os.path.splitext(f)[0]\n",
    "         for f in os.listdir(src_images)\n",
    "         if f.lower().endswith('.png')]\n",
    "files.sort()\n",
    "random.seed(42)\n",
    "random.shuffle(files)\n",
    "\n",
    "n = len(files)\n",
    "n_train = int(n * frac_train)\n",
    "n_val   = int(n * frac_val)\n",
    "\n",
    "splits = {\n",
    "    'train': files[:n_train],\n",
    "    'val':   files[n_train:n_train + n_val],\n",
    "    'test':  files[n_train + n_val:]\n",
    "}\n",
    "\n",
    "for split, names in splits.items():\n",
    "    for name in names:\n",
    "        img_src  = os.path.join(src_images, name + '.png')\n",
    "        msk_src  = os.path.join(src_masks,  name + '.png')\n",
    "        img_dst  = os.path.join(dst_base, split, 'images', name + '.png')\n",
    "        msk_dst  = os.path.join(dst_base, split, 'masks',  name + '.png')\n",
    "        if not os.path.isfile(img_src):\n",
    "            raise FileNotFoundError(f\"No encuentro imagen {img_src}\")\n",
    "        if not os.path.isfile(msk_src):\n",
    "            raise FileNotFoundError(f\"No encuentro máscara {msk_src}\")\n",
    "        shutil.copy(img_src, img_dst)\n",
    "        shutil.copy(msk_src, msk_dst)\n",
    "\n",
    "print(\"Reparto completado:\")\n",
    "for split in splits:\n",
    "    print(f\"  {split:5s}: {len(splits[split])} pares (imagen+máscara)\")\n"
   ]
  },
  {
   "cell_type": "code",
   "execution_count": null,
   "id": "60fd4d25-f753-408a-8fad-fa2196d6cc58",
   "metadata": {},
   "outputs": [],
   "source": []
  }
 ],
 "metadata": {
  "kernelspec": {
   "display_name": "Python 3 (ipykernel)",
   "language": "python",
   "name": "python3"
  },
  "language_info": {
   "codemirror_mode": {
    "name": "ipython",
    "version": 3
   },
   "file_extension": ".py",
   "mimetype": "text/x-python",
   "name": "python",
   "nbconvert_exporter": "python",
   "pygments_lexer": "ipython3",
   "version": "3.10.16"
  }
 },
 "nbformat": 4,
 "nbformat_minor": 5
}
